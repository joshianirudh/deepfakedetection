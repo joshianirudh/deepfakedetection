{
 "cells": [
  {
   "cell_type": "code",
   "execution_count": 22,
   "id": "ebd47956-d95a-4999-9cbe-6b79e1ae8fc8",
   "metadata": {},
   "outputs": [],
   "source": [
    "import pandas as pd\n",
    "import os"
   ]
  },
  {
   "cell_type": "code",
   "execution_count": 28,
   "id": "70629b4b-c805-4a80-a3f0-85667ef9af6c",
   "metadata": {},
   "outputs": [],
   "source": [
    "def createAndSave(read_path, save_path):\n",
    "\n",
    "    labels = os.listdir(read_path)\n",
    "    data_dict = {\"path\": [], \"label\": []}\n",
    "    \n",
    "    for label in labels:\n",
    "        for fname in os.listdir(os.path.join(read_path, label)):\n",
    "            img_path = os.path.join(label, fname)\n",
    "            data_dict[\"path\"].append(img_path)\n",
    "            data_dict[\"label\"].append(label)\n",
    "\n",
    "    data = pd.DataFrame(data_dict)\n",
    "    data.to_csv(save_path, index=False)"
   ]
  },
  {
   "cell_type": "markdown",
   "id": "75b967db-0f90-4aa5-a060-1d8d1277a14d",
   "metadata": {
    "tags": []
   },
   "source": [
    "### Create train/test csvs\n"
   ]
  },
  {
   "cell_type": "code",
   "execution_count": 29,
   "id": "e61a46b2-f9f2-4118-8777-1b9fd57039fa",
   "metadata": {},
   "outputs": [],
   "source": [
    "read_path = \"../../dfdc_dataset/archive/train/\"\n",
    "save_path = \"../../dfdc_dataset/train.csv\"\n",
    "\n",
    "createAndSave(read_path, save_path)"
   ]
  },
  {
   "cell_type": "code",
   "execution_count": 30,
   "id": "f7184783-0064-4333-9b91-24fd5c38dcfe",
   "metadata": {},
   "outputs": [],
   "source": [
    "read_path = \"../../dfdc_dataset/archive/validation/\"\n",
    "save_path = \"../../dfdc_dataset/test.csv\"\n",
    "\n",
    "createAndSave(read_path, save_path)"
   ]
  },
  {
   "cell_type": "code",
   "execution_count": 31,
   "id": "9c94926b-810f-4e91-9380-6b15d236732b",
   "metadata": {},
   "outputs": [
    {
     "data": {
      "text/html": [
       "<div>\n",
       "<style scoped>\n",
       "    .dataframe tbody tr th:only-of-type {\n",
       "        vertical-align: middle;\n",
       "    }\n",
       "\n",
       "    .dataframe tbody tr th {\n",
       "        vertical-align: top;\n",
       "    }\n",
       "\n",
       "    .dataframe thead th {\n",
       "        text-align: right;\n",
       "    }\n",
       "</style>\n",
       "<table border=\"1\" class=\"dataframe\">\n",
       "  <thead>\n",
       "    <tr style=\"text-align: right;\">\n",
       "      <th></th>\n",
       "      <th>path</th>\n",
       "      <th>label</th>\n",
       "    </tr>\n",
       "  </thead>\n",
       "  <tbody>\n",
       "    <tr>\n",
       "      <th>65063</th>\n",
       "      <td>fake\\efdyrflcpg_183_0.png</td>\n",
       "      <td>fake</td>\n",
       "    </tr>\n",
       "    <tr>\n",
       "      <th>75600</th>\n",
       "      <td>real\\asaxgevnnp_172_0.png</td>\n",
       "      <td>real</td>\n",
       "    </tr>\n",
       "    <tr>\n",
       "      <th>79254</th>\n",
       "      <td>real\\brwrlczjvi_291_1.png</td>\n",
       "      <td>real</td>\n",
       "    </tr>\n",
       "    <tr>\n",
       "      <th>64596</th>\n",
       "      <td>fake\\eepezmygaq_32_0.png</td>\n",
       "      <td>fake</td>\n",
       "    </tr>\n",
       "    <tr>\n",
       "      <th>80651</th>\n",
       "      <td>real\\bzythlfnhq_117_0.png</td>\n",
       "      <td>real</td>\n",
       "    </tr>\n",
       "    <tr>\n",
       "      <th>67703</th>\n",
       "      <td>fake\\eixwxvxbbn_168_0.png</td>\n",
       "      <td>fake</td>\n",
       "    </tr>\n",
       "    <tr>\n",
       "      <th>23944</th>\n",
       "      <td>fake\\bnbuonyoje_289_0.png</td>\n",
       "      <td>fake</td>\n",
       "    </tr>\n",
       "    <tr>\n",
       "      <th>24304</th>\n",
       "      <td>fake\\bndybcqhfr_72_0.png</td>\n",
       "      <td>fake</td>\n",
       "    </tr>\n",
       "    <tr>\n",
       "      <th>83998</th>\n",
       "      <td>real\\cobjrlugvp_170_0.png</td>\n",
       "      <td>real</td>\n",
       "    </tr>\n",
       "    <tr>\n",
       "      <th>19529</th>\n",
       "      <td>fake\\bhaaboftbc_186_1.png</td>\n",
       "      <td>fake</td>\n",
       "    </tr>\n",
       "  </tbody>\n",
       "</table>\n",
       "</div>"
      ],
      "text/plain": [
       "                            path label\n",
       "65063  fake\\efdyrflcpg_183_0.png  fake\n",
       "75600  real\\asaxgevnnp_172_0.png  real\n",
       "79254  real\\brwrlczjvi_291_1.png  real\n",
       "64596   fake\\eepezmygaq_32_0.png  fake\n",
       "80651  real\\bzythlfnhq_117_0.png  real\n",
       "67703  fake\\eixwxvxbbn_168_0.png  fake\n",
       "23944  fake\\bnbuonyoje_289_0.png  fake\n",
       "24304   fake\\bndybcqhfr_72_0.png  fake\n",
       "83998  real\\cobjrlugvp_170_0.png  real\n",
       "19529  fake\\bhaaboftbc_186_1.png  fake"
      ]
     },
     "execution_count": 31,
     "metadata": {},
     "output_type": "execute_result"
    }
   ],
   "source": [
    "df = pd.read_csv('../../dfdc_dataset/train.csv')\n",
    "df.sample(10)"
   ]
  }
 ],
 "metadata": {
  "kernelspec": {
   "display_name": "Python 3 (ipykernel)",
   "language": "python",
   "name": "python3"
  },
  "language_info": {
   "codemirror_mode": {
    "name": "ipython",
    "version": 3
   },
   "file_extension": ".py",
   "mimetype": "text/x-python",
   "name": "python",
   "nbconvert_exporter": "python",
   "pygments_lexer": "ipython3",
   "version": "3.9.7"
  }
 },
 "nbformat": 4,
 "nbformat_minor": 5
}
