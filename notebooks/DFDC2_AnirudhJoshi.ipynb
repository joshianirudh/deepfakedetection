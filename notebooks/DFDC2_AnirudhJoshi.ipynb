{
  "nbformat": 4,
  "nbformat_minor": 0,
  "metadata": {
    "colab": {
      "name": "DFDC2_AnirudhJoshi.ipynb",
      "provenance": [],
      "collapsed_sections": [],
      "machine_shape": "hm"
    },
    "kernelspec": {
      "display_name": "Python 3",
      "name": "python3"
    },
    "language_info": {
      "name": "python"
    },
    "accelerator": "GPU"
  },
  "cells": [
    {
      "cell_type": "code",
      "metadata": {
        "id": "J_cex5BceegT"
      },
      "source": [
        "import pandas as pd\n",
        "import numpy as np\n",
        "from threading import Thread\n",
        "from tqdm import tqdm\n",
        "import cv2\n",
        "import tensorflow as tf\n",
        "import tensorflow.keras.layers as layers\n",
        "from sklearn.preprocessing import LabelEncoder\n"
      ],
      "execution_count": 1,
      "outputs": []
    },
    {
      "cell_type": "code",
      "source": [
        "tf.config.experimental.list_physical_devices(device_type='gpu')"
      ],
      "metadata": {
        "colab": {
          "base_uri": "https://localhost:8080/"
        },
        "id": "rX4-IgOrBbM2",
        "outputId": "a6688a8d-d5a8-4d5d-ea45-31add5e27229"
      },
      "execution_count": 2,
      "outputs": [
        {
          "output_type": "execute_result",
          "data": {
            "text/plain": [
              "[]"
            ]
          },
          "metadata": {},
          "execution_count": 2
        }
      ]
    },
    {
      "cell_type": "code",
      "metadata": {
        "colab": {
          "base_uri": "https://localhost:8080/",
          "height": 35
        },
        "id": "PfvKxVLKpXt2",
        "outputId": "1843c3c7-bdb7-40f4-860b-7391ed2be37c"
      },
      "source": [
        "import shutil\n",
        "'''\n",
        "# To copy files\n",
        "shutil.copyfile('/content/drive/MyDrive/DFDC_AnirudhJoshi', 'destination_file_location')\n",
        "\n",
        "# To copy multiple files of folder with some conditions\n",
        "import os\n",
        "for file in os.listdir('folder_path'):\n",
        "    if file.endswith('.jpg'):\n",
        "        shutil.copyfile('folder_path' + file, 'desination_folder_path' + file)\n",
        "'''\n",
        "# To copy folders\n",
        "shutil.copytree('/content/drive/MyDrive/DFDC_AnirudhJoshi', '/content/sample_data/dfdc')  "
      ],
      "execution_count": 3,
      "outputs": [
        {
          "output_type": "execute_result",
          "data": {
            "application/vnd.google.colaboratory.intrinsic+json": {
              "type": "string"
            },
            "text/plain": [
              "'/content/sample_data/dfdc'"
            ]
          },
          "metadata": {},
          "execution_count": 3
        }
      ]
    },
    {
      "cell_type": "code",
      "source": [
        "import pickle\n",
        "with open('/content/sample_data/dfdc/dfdc.pkl','rb') as f:\n",
        "  data = pickle.load(f)"
      ],
      "metadata": {
        "id": "mcXF3QcmCzyv"
      },
      "execution_count": 4,
      "outputs": []
    },
    {
      "cell_type": "code",
      "metadata": {
        "id": "NYuWRrujd5Es"
      },
      "source": [
        "from sklearn.model_selection import train_test_split"
      ],
      "execution_count": 5,
      "outputs": []
    },
    {
      "cell_type": "markdown",
      "metadata": {
        "id": "K9efaOmPfmAY"
      },
      "source": [
        "Meso-Net"
      ]
    },
    {
      "cell_type": "code",
      "metadata": {
        "id": "D0g_0qX_e5ou"
      },
      "source": [
        "def convolution(model,n_f,f,p):\n",
        "    ''' Function Parameters\n",
        "        model : Pass the Neural Network\n",
        "        n_f : number of filters\n",
        "        f : filter matrix len\n",
        "        p : max pool matrix len\n",
        "    '''\n",
        "    model.add(layers.Conv2D(n_f,(f,f),padding='same', activation='relu'))\n",
        "    model.add(layers.BatchNormalization())\n",
        "    model.add(layers.MaxPool2D((p,p),strides=2))"
      ],
      "execution_count": 6,
      "outputs": []
    },
    {
      "cell_type": "code",
      "metadata": {
        "id": "9GLk-Rqce5x-"
      },
      "source": [
        "def fully_connected(model,drop_prob,nodes):\n",
        "    ''' Function Parameters\n",
        "        model : Pass the Neural Network\n",
        "        drop_prob : for dropout\n",
        "        nodes : # nodes in layer\n",
        "    '''\n",
        "    model.add(layers.Dropout(drop_prob))\n",
        "    model.add(layers.Dense(nodes))"
      ],
      "execution_count": 7,
      "outputs": []
    },
    {
      "cell_type": "code",
      "metadata": {
        "id": "rDiB2vqTe50g"
      },
      "source": [
        "def meso(X_train,y_train,X_test,y_test):\n",
        "    # X_train , y_train , X_test , y_test\n",
        "    model = tf.keras.Sequential()\n",
        "    model.add(layers.InputLayer((160, 160, 3,)))\n",
        "    convolution(model,8,3,2)\n",
        "    convolution(model,8,5,2)\n",
        "    convolution(model,16,5,2)\n",
        "    convolution(model,16,5,4)\n",
        "    model.add(layers.Flatten())\n",
        "    fully_connected(model,0.5,16)\n",
        "    fully_connected(model,0.5,1)\n",
        "    model.add(layers.Activation('sigmoid'))\n",
        "    model.compile(optimizer='adam',loss='binary_crossentropy',metrics=['accuracy'])\n",
        "    model.summary()\n",
        "    model.fit(X_train,y_train,epochs=20,batch_size=256,verbose=1)\n",
        "    loss,acc = model.evaluate(X_test,y_test)\n",
        "    print(\"Loss : \",loss,\" Accuracy : \",acc)"
      ],
      "execution_count": 8,
      "outputs": []
    },
    {
      "cell_type": "markdown",
      "metadata": {
        "id": "YU7ld3QZf4uL"
      },
      "source": [
        "Meso-Inception Net"
      ]
    },
    {
      "cell_type": "code",
      "metadata": {
        "id": "7W6YW8s7fwoH"
      },
      "source": [
        "def incept(layer,x,y,z,w):\n",
        "    a = layers.Conv2D(x,(1,1),padding='same')(layer)\n",
        "    b1 = layers.Conv2D(y,(1,1),padding='same',activation='relu')(layer)\n",
        "    b2 = layers.Conv2D(y,(3,3),padding='same')(b1)\n",
        "    b = layers.concatenate([b1,b2])\n",
        "    c1 = layers.Conv2D(z,(1,1),padding='same',activation='relu')(layer)\n",
        "    c2 = layers.Conv2D(z,(3,3),padding='same',dilation_rate=(2,2))(c1)\n",
        "    c = layers.concatenate([c1,c2])\n",
        "    d1 = layers.Conv2D(w,(1,1),padding='same',activation='relu')(layer)\n",
        "    d2 = layers.Conv2D(w,(3,3),padding='same',dilation_rate=(3,3) )(d1)\n",
        "    d = layers.concatenate([d1,d2])\n",
        "    layer_out = layers.concatenate([a,b,c,d])\n",
        "    return layer_out"
      ],
      "execution_count": 9,
      "outputs": []
    },
    {
      "cell_type": "code",
      "metadata": {
        "id": "Yt_yPv_uf76J"
      },
      "source": [
        "def meso_inception(X_train,X_test,y_train,y_test):\n",
        "    layer = layers.Input(shape=(160,160,3))\n",
        "    layer_out = incept(layer,1,4,4,1)\n",
        "    layer_out = incept(layer_out,1,4,4,2)\n",
        "    layer_out = layers.Flatten()(layer_out)\n",
        "    layer_out = layers.Dense(1,activation='relu')(layer_out)\n",
        "    model = tf.keras.Model(inputs=layer,outputs=layer_out)\n",
        "    model.compile(optimizer='adam',loss='binary_crossentropy',metrics=['accuracy'])\n",
        "    model.summary()\n",
        "    model.fit(X_train,y_train,epochs=10,batch_size=256,verbose=1)\n",
        "    loss,acc = model.evaluate(X_test,y_test)\n",
        "    print(\"Loss : \",loss,\" Accuracy : \",acc)"
      ],
      "execution_count": 10,
      "outputs": []
    },
    {
      "cell_type": "markdown",
      "metadata": {
        "id": "85JMICnvixyz"
      },
      "source": [
        "RESNET-50 with spatial pyramidal pooling [DSP-FWA]"
      ]
    },
    {
      "cell_type": "code",
      "metadata": {
        "colab": {
          "base_uri": "https://localhost:8080/"
        },
        "id": "H8m4YBMPUNFM",
        "outputId": "3e635c0d-ca1a-45f9-bd64-0d2865e63b95"
      },
      "source": [
        "pip install tensorflow-addons"
      ],
      "execution_count": 11,
      "outputs": [
        {
          "output_type": "stream",
          "name": "stdout",
          "text": [
            "Collecting tensorflow-addons\n",
            "  Downloading tensorflow_addons-0.15.0-cp37-cp37m-manylinux_2_12_x86_64.manylinux2010_x86_64.whl (1.1 MB)\n",
            "\u001b[?25l\r\u001b[K     |▎                               | 10 kB 38.0 MB/s eta 0:00:01\r\u001b[K     |▋                               | 20 kB 19.6 MB/s eta 0:00:01\r\u001b[K     |▉                               | 30 kB 16.7 MB/s eta 0:00:01\r\u001b[K     |█▏                              | 40 kB 15.4 MB/s eta 0:00:01\r\u001b[K     |█▌                              | 51 kB 8.3 MB/s eta 0:00:01\r\u001b[K     |█▊                              | 61 kB 9.7 MB/s eta 0:00:01\r\u001b[K     |██                              | 71 kB 9.8 MB/s eta 0:00:01\r\u001b[K     |██▍                             | 81 kB 9.0 MB/s eta 0:00:01\r\u001b[K     |██▋                             | 92 kB 7.9 MB/s eta 0:00:01\r\u001b[K     |███                             | 102 kB 8.6 MB/s eta 0:00:01\r\u001b[K     |███▎                            | 112 kB 8.6 MB/s eta 0:00:01\r\u001b[K     |███▌                            | 122 kB 8.6 MB/s eta 0:00:01\r\u001b[K     |███▉                            | 133 kB 8.6 MB/s eta 0:00:01\r\u001b[K     |████▏                           | 143 kB 8.6 MB/s eta 0:00:01\r\u001b[K     |████▍                           | 153 kB 8.6 MB/s eta 0:00:01\r\u001b[K     |████▊                           | 163 kB 8.6 MB/s eta 0:00:01\r\u001b[K     |█████                           | 174 kB 8.6 MB/s eta 0:00:01\r\u001b[K     |█████▎                          | 184 kB 8.6 MB/s eta 0:00:01\r\u001b[K     |█████▋                          | 194 kB 8.6 MB/s eta 0:00:01\r\u001b[K     |█████▉                          | 204 kB 8.6 MB/s eta 0:00:01\r\u001b[K     |██████▏                         | 215 kB 8.6 MB/s eta 0:00:01\r\u001b[K     |██████▌                         | 225 kB 8.6 MB/s eta 0:00:01\r\u001b[K     |██████▊                         | 235 kB 8.6 MB/s eta 0:00:01\r\u001b[K     |███████                         | 245 kB 8.6 MB/s eta 0:00:01\r\u001b[K     |███████▍                        | 256 kB 8.6 MB/s eta 0:00:01\r\u001b[K     |███████▋                        | 266 kB 8.6 MB/s eta 0:00:01\r\u001b[K     |████████                        | 276 kB 8.6 MB/s eta 0:00:01\r\u001b[K     |████████▎                       | 286 kB 8.6 MB/s eta 0:00:01\r\u001b[K     |████████▌                       | 296 kB 8.6 MB/s eta 0:00:01\r\u001b[K     |████████▉                       | 307 kB 8.6 MB/s eta 0:00:01\r\u001b[K     |█████████                       | 317 kB 8.6 MB/s eta 0:00:01\r\u001b[K     |█████████▍                      | 327 kB 8.6 MB/s eta 0:00:01\r\u001b[K     |█████████▊                      | 337 kB 8.6 MB/s eta 0:00:01\r\u001b[K     |██████████                      | 348 kB 8.6 MB/s eta 0:00:01\r\u001b[K     |██████████▎                     | 358 kB 8.6 MB/s eta 0:00:01\r\u001b[K     |██████████▋                     | 368 kB 8.6 MB/s eta 0:00:01\r\u001b[K     |██████████▉                     | 378 kB 8.6 MB/s eta 0:00:01\r\u001b[K     |███████████▏                    | 389 kB 8.6 MB/s eta 0:00:01\r\u001b[K     |███████████▌                    | 399 kB 8.6 MB/s eta 0:00:01\r\u001b[K     |███████████▊                    | 409 kB 8.6 MB/s eta 0:00:01\r\u001b[K     |████████████                    | 419 kB 8.6 MB/s eta 0:00:01\r\u001b[K     |████████████▍                   | 430 kB 8.6 MB/s eta 0:00:01\r\u001b[K     |████████████▋                   | 440 kB 8.6 MB/s eta 0:00:01\r\u001b[K     |█████████████                   | 450 kB 8.6 MB/s eta 0:00:01\r\u001b[K     |█████████████▎                  | 460 kB 8.6 MB/s eta 0:00:01\r\u001b[K     |█████████████▌                  | 471 kB 8.6 MB/s eta 0:00:01\r\u001b[K     |█████████████▉                  | 481 kB 8.6 MB/s eta 0:00:01\r\u001b[K     |██████████████                  | 491 kB 8.6 MB/s eta 0:00:01\r\u001b[K     |██████████████▍                 | 501 kB 8.6 MB/s eta 0:00:01\r\u001b[K     |██████████████▊                 | 512 kB 8.6 MB/s eta 0:00:01\r\u001b[K     |███████████████                 | 522 kB 8.6 MB/s eta 0:00:01\r\u001b[K     |███████████████▎                | 532 kB 8.6 MB/s eta 0:00:01\r\u001b[K     |███████████████▋                | 542 kB 8.6 MB/s eta 0:00:01\r\u001b[K     |███████████████▉                | 552 kB 8.6 MB/s eta 0:00:01\r\u001b[K     |████████████████▏               | 563 kB 8.6 MB/s eta 0:00:01\r\u001b[K     |████████████████▌               | 573 kB 8.6 MB/s eta 0:00:01\r\u001b[K     |████████████████▊               | 583 kB 8.6 MB/s eta 0:00:01\r\u001b[K     |█████████████████               | 593 kB 8.6 MB/s eta 0:00:01\r\u001b[K     |█████████████████▍              | 604 kB 8.6 MB/s eta 0:00:01\r\u001b[K     |█████████████████▋              | 614 kB 8.6 MB/s eta 0:00:01\r\u001b[K     |██████████████████              | 624 kB 8.6 MB/s eta 0:00:01\r\u001b[K     |██████████████████▏             | 634 kB 8.6 MB/s eta 0:00:01\r\u001b[K     |██████████████████▌             | 645 kB 8.6 MB/s eta 0:00:01\r\u001b[K     |██████████████████▉             | 655 kB 8.6 MB/s eta 0:00:01\r\u001b[K     |███████████████████             | 665 kB 8.6 MB/s eta 0:00:01\r\u001b[K     |███████████████████▍            | 675 kB 8.6 MB/s eta 0:00:01\r\u001b[K     |███████████████████▊            | 686 kB 8.6 MB/s eta 0:00:01\r\u001b[K     |████████████████████            | 696 kB 8.6 MB/s eta 0:00:01\r\u001b[K     |████████████████████▎           | 706 kB 8.6 MB/s eta 0:00:01\r\u001b[K     |████████████████████▋           | 716 kB 8.6 MB/s eta 0:00:01\r\u001b[K     |████████████████████▉           | 727 kB 8.6 MB/s eta 0:00:01\r\u001b[K     |█████████████████████▏          | 737 kB 8.6 MB/s eta 0:00:01\r\u001b[K     |█████████████████████▌          | 747 kB 8.6 MB/s eta 0:00:01\r\u001b[K     |█████████████████████▊          | 757 kB 8.6 MB/s eta 0:00:01\r\u001b[K     |██████████████████████          | 768 kB 8.6 MB/s eta 0:00:01\r\u001b[K     |██████████████████████▎         | 778 kB 8.6 MB/s eta 0:00:01\r\u001b[K     |██████████████████████▋         | 788 kB 8.6 MB/s eta 0:00:01\r\u001b[K     |███████████████████████         | 798 kB 8.6 MB/s eta 0:00:01\r\u001b[K     |███████████████████████▏        | 808 kB 8.6 MB/s eta 0:00:01\r\u001b[K     |███████████████████████▌        | 819 kB 8.6 MB/s eta 0:00:01\r\u001b[K     |███████████████████████▉        | 829 kB 8.6 MB/s eta 0:00:01\r\u001b[K     |████████████████████████        | 839 kB 8.6 MB/s eta 0:00:01\r\u001b[K     |████████████████████████▍       | 849 kB 8.6 MB/s eta 0:00:01\r\u001b[K     |████████████████████████▊       | 860 kB 8.6 MB/s eta 0:00:01\r\u001b[K     |█████████████████████████       | 870 kB 8.6 MB/s eta 0:00:01\r\u001b[K     |█████████████████████████▎      | 880 kB 8.6 MB/s eta 0:00:01\r\u001b[K     |█████████████████████████▋      | 890 kB 8.6 MB/s eta 0:00:01\r\u001b[K     |█████████████████████████▉      | 901 kB 8.6 MB/s eta 0:00:01\r\u001b[K     |██████████████████████████▏     | 911 kB 8.6 MB/s eta 0:00:01\r\u001b[K     |██████████████████████████▌     | 921 kB 8.6 MB/s eta 0:00:01\r\u001b[K     |██████████████████████████▊     | 931 kB 8.6 MB/s eta 0:00:01\r\u001b[K     |███████████████████████████     | 942 kB 8.6 MB/s eta 0:00:01\r\u001b[K     |███████████████████████████▎    | 952 kB 8.6 MB/s eta 0:00:01\r\u001b[K     |███████████████████████████▋    | 962 kB 8.6 MB/s eta 0:00:01\r\u001b[K     |████████████████████████████    | 972 kB 8.6 MB/s eta 0:00:01\r\u001b[K     |████████████████████████████▏   | 983 kB 8.6 MB/s eta 0:00:01\r\u001b[K     |████████████████████████████▌   | 993 kB 8.6 MB/s eta 0:00:01\r\u001b[K     |████████████████████████████▉   | 1.0 MB 8.6 MB/s eta 0:00:01\r\u001b[K     |█████████████████████████████   | 1.0 MB 8.6 MB/s eta 0:00:01\r\u001b[K     |█████████████████████████████▍  | 1.0 MB 8.6 MB/s eta 0:00:01\r\u001b[K     |█████████████████████████████▊  | 1.0 MB 8.6 MB/s eta 0:00:01\r\u001b[K     |██████████████████████████████  | 1.0 MB 8.6 MB/s eta 0:00:01\r\u001b[K     |██████████████████████████████▎ | 1.1 MB 8.6 MB/s eta 0:00:01\r\u001b[K     |██████████████████████████████▋ | 1.1 MB 8.6 MB/s eta 0:00:01\r\u001b[K     |██████████████████████████████▉ | 1.1 MB 8.6 MB/s eta 0:00:01\r\u001b[K     |███████████████████████████████▏| 1.1 MB 8.6 MB/s eta 0:00:01\r\u001b[K     |███████████████████████████████▍| 1.1 MB 8.6 MB/s eta 0:00:01\r\u001b[K     |███████████████████████████████▊| 1.1 MB 8.6 MB/s eta 0:00:01\r\u001b[K     |████████████████████████████████| 1.1 MB 8.6 MB/s \n",
            "\u001b[?25hRequirement already satisfied: typeguard>=2.7 in /usr/local/lib/python3.7/dist-packages (from tensorflow-addons) (2.7.1)\n",
            "Installing collected packages: tensorflow-addons\n",
            "Successfully installed tensorflow-addons-0.15.0\n"
          ]
        }
      ]
    },
    {
      "cell_type": "code",
      "metadata": {
        "id": "5YrzVXHCiwzq"
      },
      "source": [
        "from tensorflow_addons import layers as lay"
      ],
      "execution_count": 12,
      "outputs": []
    },
    {
      "cell_type": "code",
      "metadata": {
        "id": "ztAtOlFif7_4"
      },
      "source": [
        "def identity_block(base,f1,f2):\n",
        "    \n",
        "    x = base\n",
        "    \n",
        "    base = layers.Conv2D(f1,(1,1),padding='valid')(base)\n",
        "    base = layers.BatchNormalization()(base)\n",
        "    base = layers.Activation('relu')(base)\n",
        "    \n",
        "    base = layers.Conv2D(f1,(3,3),padding='same')(base)\n",
        "    base = layers.BatchNormalization()(base)\n",
        "    base = layers.Activation('relu')(base)\n",
        "    \n",
        "    base = layers.Conv2D(f2,(1,1),padding='valid')(base)\n",
        "    base = layers.BatchNormalization()(base)\n",
        "    \n",
        "    base = layers.Add()([base,x])\n",
        "    base = layers.Activation('relu')(base)\n",
        "\n",
        "    return base"
      ],
      "execution_count": 13,
      "outputs": []
    },
    {
      "cell_type": "code",
      "metadata": {
        "id": "EVPWYA_zi-hp"
      },
      "source": [
        "def convolutional_block(base,s,f1,f2):\n",
        "    \n",
        "    x = base\n",
        "    \n",
        "    base = layers.Conv2D(f1,(1,1),strides=(s,s),padding='valid')(base)\n",
        "    base = layers.BatchNormalization()(base)\n",
        "    base = layers.Activation('relu')(base)\n",
        "    \n",
        "    base = layers.Conv2D(f1,(3,3),padding='same')(base)\n",
        "    base = layers.BatchNormalization()(base)\n",
        "    base = layers.Activation('relu')(base)\n",
        "    \n",
        "    base = layers.Conv2D(f2,(1,1),padding='valid')(base)\n",
        "    base = layers.BatchNormalization()(base)\n",
        "    \n",
        "    x = layers.Conv2D(f2,(1,1),strides=(s,s),padding='valid')(x)\n",
        "    x = layers.BatchNormalization()(x)\n",
        "    \n",
        "    base = layers.Add()([base,x])\n",
        "    base = layers.Activation('relu')(base)\n",
        "        \n",
        "    return base"
      ],
      "execution_count": 14,
      "outputs": []
    },
    {
      "cell_type": "code",
      "metadata": {
        "id": "xDMlRRpPjDSj"
      },
      "source": [
        "def ResNet50(X_train,y_train,X_test,y_test):\n",
        "    input_layer = layers.Input(shape=(160,160,3))\n",
        "    \n",
        "    x = layers.ZeroPadding2D(padding=(3,3))(input_layer)\n",
        "    x = layers.Conv2D(64,(7,7),strides=(2,2))(x)\n",
        "    x = layers.BatchNormalization()(x)\n",
        "    x = layers.Activation('relu')(x)\n",
        "    x = layers.MaxPooling2D((3,3),strides=(2,2))(x)\n",
        "    \n",
        "    x = convolutional_block(x,1,32,64)\n",
        "    x = identity_block(x,32,64)\n",
        "    x = identity_block(x,32,64)\n",
        "    \n",
        "    x = convolutional_block(x,1,64,128)\n",
        "    x = identity_block(x,64,128)\n",
        "    x = identity_block(x,64,128)\n",
        "    x = identity_block(x,64,128)\n",
        "    \n",
        "    x = convolutional_block(x,1,64,128)\n",
        "    x = identity_block(x,64,128)\n",
        "    x = identity_block(x,64,128)\n",
        "    x = identity_block(x,64,128)\n",
        "    x = identity_block(x,64,128)\n",
        "    x = identity_block(x,64,128)\n",
        "    \n",
        "    x = convolutional_block(x,1,64,128)\n",
        "    x = identity_block(x,64,128)\n",
        "    x = identity_block(x,64,128)\n",
        "    \n",
        "    x = lay.SpatialPyramidPooling2D([32,16,1])(x)\n",
        "    x = layers.Flatten()(x)\n",
        "    x = layers.Dense(1)(x)\n",
        "    x = layers.Activation('sigmoid')(x)\n",
        "    \n",
        "    model = tf.keras.Model(inputs=input_layer,outputs=x)\n",
        "    model.compile(optimizer='adam',loss='binary_crossentropy',metrics=['accuracy'])\n",
        "    model.summary()\n",
        "    model.fit(X_train,y_train,epochs=10,batch_size=256,verbose=1)\n",
        "    loss,acc = model.evaluate(X_test,y_test)\n",
        "    print(\"Loss : \",loss,\" Accuracy : \",acc)"
      ],
      "execution_count": 15,
      "outputs": []
    },
    {
      "cell_type": "markdown",
      "source": [
        "Batch Processing Models"
      ],
      "metadata": {
        "id": "mmYeQQWTiZwo"
      }
    },
    {
      "cell_type": "code",
      "source": [
        "m = len(data[0])"
      ],
      "metadata": {
        "id": "xhfReVqWioCX"
      },
      "execution_count": 18,
      "outputs": []
    },
    {
      "cell_type": "code",
      "source": [
        ""
      ],
      "metadata": {
        "id": "DRpuG9MIipHJ"
      },
      "execution_count": null,
      "outputs": []
    }
  ]
}