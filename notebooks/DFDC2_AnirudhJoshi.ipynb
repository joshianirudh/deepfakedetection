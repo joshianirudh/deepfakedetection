{
 "cells": [
  {
   "cell_type": "code",
   "execution_count": 5,
   "metadata": {
    "id": "J_cex5BceegT"
   },
   "outputs": [],
   "source": [
    "import pandas as pd\n",
    "import numpy as np\n",
    "from threading import Thread\n",
    "from tqdm import tqdm\n",
    "import cv2\n",
    "import tensorflow as tf\n",
    "import tensorflow.keras.layers as layers\n",
    "from sklearn.preprocessing import LabelEncoder\n"
   ]
  },
  {
   "cell_type": "code",
   "execution_count": 3,
   "metadata": {
    "colab": {
     "base_uri": "https://localhost:8080/",
     "height": 35
    },
    "id": "PfvKxVLKpXt2",
    "outputId": "1843c3c7-bdb7-40f4-860b-7391ed2be37c"
   },
   "outputs": [
    {
     "data": {
      "application/vnd.google.colaboratory.intrinsic+json": {
       "type": "string"
      },
      "text/plain": [
       "'/content/sample_data/dfdc'"
      ]
     },
     "execution_count": 3,
     "metadata": {},
     "output_type": "execute_result"
    }
   ],
   "source": [
    "'''\n",
    "import shutil\n",
    "'''\n",
    "# To copy files\n",
    "shutil.copyfile('/content/drive/MyDrive/DFDC_AnirudhJoshi', 'destination_file_location')\n",
    "\n",
    "# To copy multiple files of folder with some conditions\n",
    "import os\n",
    "for file in os.listdir('folder_path'):\n",
    "    if file.endswith('.jpg'):\n",
    "        shutil.copyfile('folder_path' + file, 'desination_folder_path' + file)\n",
    "'''\n",
    "# To copy folders\n",
    "shutil.copytree('/content/drive/MyDrive/DFDC_AnirudhJoshi', '/content/sample_data/dfdc')  \n",
    "'''"
   ]
  },
  {
   "cell_type": "code",
   "execution_count": 4,
   "metadata": {
    "id": "mcXF3QcmCzyv"
   },
   "outputs": [],
   "source": [
    "import pickle\n",
    "with open('/content/sample_data/dfdc/dfdc.pkl','rb') as f:\n",
    "  data = pickle.load(f)"
   ]
  },
  {
   "cell_type": "code",
   "execution_count": 5,
   "metadata": {
    "id": "NYuWRrujd5Es"
   },
   "outputs": [],
   "source": [
    "from sklearn.model_selection import train_test_split"
   ]
  },
  {
   "cell_type": "markdown",
   "metadata": {
    "id": "K9efaOmPfmAY"
   },
   "source": [
    "Meso-Net"
   ]
  },
  {
   "cell_type": "code",
   "execution_count": 6,
   "metadata": {
    "id": "D0g_0qX_e5ou"
   },
   "outputs": [],
   "source": [
    "def convolution(model,n_f,f,p):\n",
    "    ''' Function Parameters\n",
    "        model : Pass the Neural Network\n",
    "        n_f : number of filters\n",
    "        f : filter matrix len\n",
    "        p : max pool matrix len\n",
    "    '''\n",
    "    model.add(layers.Conv2D(n_f,(f,f),padding='same', activation='relu'))\n",
    "    model.add(layers.BatchNormalization())\n",
    "    model.add(layers.MaxPool2D((p,p),strides=2))"
   ]
  },
  {
   "cell_type": "code",
   "execution_count": 7,
   "metadata": {
    "id": "9GLk-Rqce5x-"
   },
   "outputs": [],
   "source": [
    "def fully_connected(model,drop_prob,nodes):\n",
    "    ''' Function Parameters\n",
    "        model : Pass the Neural Network\n",
    "        drop_prob : for dropout\n",
    "        nodes : # nodes in layer\n",
    "    '''\n",
    "    model.add(layers.Dropout(drop_prob))\n",
    "    model.add(layers.Dense(nodes))"
   ]
  },
  {
   "cell_type": "code",
   "execution_count": 8,
   "metadata": {
    "id": "rDiB2vqTe50g"
   },
   "outputs": [],
   "source": [
    "def meso(X_train,y_train,X_test,y_test):\n",
    "    # X_train , y_train , X_test , y_test\n",
    "    model = tf.keras.Sequential()\n",
    "    model.add(layers.InputLayer((160, 160, 3,)))\n",
    "    convolution(model,8,3,2)\n",
    "    convolution(model,8,5,2)\n",
    "    convolution(model,16,5,2)\n",
    "    convolution(model,16,5,4)\n",
    "    model.add(layers.Flatten())\n",
    "    fully_connected(model,0.5,16)\n",
    "    fully_connected(model,0.5,1)\n",
    "    model.add(layers.Activation('sigmoid'))\n",
    "    model.compile(optimizer='adam',loss='binary_crossentropy',metrics=['accuracy'])\n",
    "    model.summary()\n",
    "    model.fit(X_train,y_train,epochs=20,batch_size=256,verbose=1)\n",
    "    loss,acc = model.evaluate(X_test,y_test)\n",
    "    print(\"Loss : \",loss,\" Accuracy : \",acc)"
   ]
  },
  {
   "cell_type": "markdown",
   "metadata": {
    "id": "YU7ld3QZf4uL"
   },
   "source": [
    "Meso-Inception Net"
   ]
  },
  {
   "cell_type": "code",
   "execution_count": 9,
   "metadata": {
    "id": "7W6YW8s7fwoH"
   },
   "outputs": [],
   "source": [
    "def incept(layer,x,y,z,w):\n",
    "    a = layers.Conv2D(x,(1,1),padding='same')(layer)\n",
    "    b1 = layers.Conv2D(y,(1,1),padding='same',activation='relu')(layer)\n",
    "    b2 = layers.Conv2D(y,(3,3),padding='same')(b1)\n",
    "    b = layers.concatenate([b1,b2])\n",
    "    c1 = layers.Conv2D(z,(1,1),padding='same',activation='relu')(layer)\n",
    "    c2 = layers.Conv2D(z,(3,3),padding='same',dilation_rate=(2,2))(c1)\n",
    "    c = layers.concatenate([c1,c2])\n",
    "    d1 = layers.Conv2D(w,(1,1),padding='same',activation='relu')(layer)\n",
    "    d2 = layers.Conv2D(w,(3,3),padding='same',dilation_rate=(3,3) )(d1)\n",
    "    d = layers.concatenate([d1,d2])\n",
    "    layer_out = layers.concatenate([a,b,c,d])\n",
    "    return layer_out"
   ]
  },
  {
   "cell_type": "code",
   "execution_count": 10,
   "metadata": {
    "id": "Yt_yPv_uf76J"
   },
   "outputs": [],
   "source": [
    "def meso_inception(X_train,X_test,y_train,y_test):\n",
    "    layer = layers.Input(shape=(160,160,3))\n",
    "    layer_out = incept(layer,1,4,4,1)\n",
    "    layer_out = incept(layer_out,1,4,4,2)\n",
    "    layer_out = layers.Flatten()(layer_out)\n",
    "    layer_out = layers.Dense(1,activation='relu')(layer_out)\n",
    "    model = tf.keras.Model(inputs=layer,outputs=layer_out)\n",
    "    model.compile(optimizer='adam',loss='binary_crossentropy',metrics=['accuracy'])\n",
    "    model.summary()\n",
    "    model.fit(X_train,y_train,epochs=10,batch_size=256,verbose=1)\n",
    "    loss,acc = model.evaluate(X_test,y_test)\n",
    "    print(\"Loss : \",loss,\" Accuracy : \",acc)"
   ]
  },
  {
   "cell_type": "markdown",
   "metadata": {
    "id": "85JMICnvixyz"
   },
   "source": [
    "RESNET-50 with spatial pyramidal pooling [DSP-FWA]"
   ]
  },
  {
   "cell_type": "code",
   "execution_count": 11,
   "metadata": {
    "colab": {
     "base_uri": "https://localhost:8080/"
    },
    "id": "H8m4YBMPUNFM",
    "outputId": "3e635c0d-ca1a-45f9-bd64-0d2865e63b95"
   },
   "outputs": [
    {
     "name": "stdout",
     "output_type": "stream",
     "text": [
      "Collecting tensorflow-addons\n",
      "  Downloading tensorflow_addons-0.15.0-cp37-cp37m-manylinux_2_12_x86_64.manylinux2010_x86_64.whl (1.1 MB)\n",
      "\u001b[K     |████████████████████████████████| 1.1 MB 8.6 MB/s eta 0:00:01\n",
      "\u001b[?25hRequirement already satisfied: typeguard>=2.7 in /usr/local/lib/python3.7/dist-packages (from tensorflow-addons) (2.7.1)\n",
      "Installing collected packages: tensorflow-addons\n",
      "Successfully installed tensorflow-addons-0.15.0\n"
     ]
    }
   ],
   "source": [
    "pip install tensorflow-addons"
   ]
  },
  {
   "cell_type": "code",
   "execution_count": 12,
   "metadata": {
    "id": "5YrzVXHCiwzq"
   },
   "outputs": [],
   "source": [
    "from tensorflow_addons import layers as lay"
   ]
  },
  {
   "cell_type": "code",
   "execution_count": 13,
   "metadata": {
    "id": "ztAtOlFif7_4"
   },
   "outputs": [],
   "source": [
    "def identity_block(base,f1,f2):\n",
    "    \n",
    "    x = base\n",
    "    \n",
    "    base = layers.Conv2D(f1,(1,1),padding='valid')(base)\n",
    "    base = layers.BatchNormalization()(base)\n",
    "    base = layers.Activation('relu')(base)\n",
    "    \n",
    "    base = layers.Conv2D(f1,(3,3),padding='same')(base)\n",
    "    base = layers.BatchNormalization()(base)\n",
    "    base = layers.Activation('relu')(base)\n",
    "    \n",
    "    base = layers.Conv2D(f2,(1,1),padding='valid')(base)\n",
    "    base = layers.BatchNormalization()(base)\n",
    "    \n",
    "    base = layers.Add()([base,x])\n",
    "    base = layers.Activation('relu')(base)\n",
    "\n",
    "    return base"
   ]
  },
  {
   "cell_type": "code",
   "execution_count": 14,
   "metadata": {
    "id": "EVPWYA_zi-hp"
   },
   "outputs": [],
   "source": [
    "def convolutional_block(base,s,f1,f2):\n",
    "    \n",
    "    x = base\n",
    "    \n",
    "    base = layers.Conv2D(f1,(1,1),strides=(s,s),padding='valid')(base)\n",
    "    base = layers.BatchNormalization()(base)\n",
    "    base = layers.Activation('relu')(base)\n",
    "    \n",
    "    base = layers.Conv2D(f1,(3,3),padding='same')(base)\n",
    "    base = layers.BatchNormalization()(base)\n",
    "    base = layers.Activation('relu')(base)\n",
    "    \n",
    "    base = layers.Conv2D(f2,(1,1),padding='valid')(base)\n",
    "    base = layers.BatchNormalization()(base)\n",
    "    \n",
    "    x = layers.Conv2D(f2,(1,1),strides=(s,s),padding='valid')(x)\n",
    "    x = layers.BatchNormalization()(x)\n",
    "    \n",
    "    base = layers.Add()([base,x])\n",
    "    base = layers.Activation('relu')(base)\n",
    "        \n",
    "    return base"
   ]
  },
  {
   "cell_type": "code",
   "execution_count": 15,
   "metadata": {
    "id": "xDMlRRpPjDSj"
   },
   "outputs": [],
   "source": [
    "def ResNet50(X_train,y_train,X_test,y_test):\n",
    "    input_layer = layers.Input(shape=(160,160,3))\n",
    "    \n",
    "    x = layers.ZeroPadding2D(padding=(3,3))(input_layer)\n",
    "    x = layers.Conv2D(64,(7,7),strides=(2,2))(x)\n",
    "    x = layers.BatchNormalization()(x)\n",
    "    x = layers.Activation('relu')(x)\n",
    "    x = layers.MaxPooling2D((3,3),strides=(2,2))(x)\n",
    "    \n",
    "    x = convolutional_block(x,1,32,64)\n",
    "    x = identity_block(x,32,64)\n",
    "    x = identity_block(x,32,64)\n",
    "    \n",
    "    x = convolutional_block(x,1,64,128)\n",
    "    x = identity_block(x,64,128)\n",
    "    x = identity_block(x,64,128)\n",
    "    x = identity_block(x,64,128)\n",
    "    \n",
    "    x = convolutional_block(x,1,64,128)\n",
    "    x = identity_block(x,64,128)\n",
    "    x = identity_block(x,64,128)\n",
    "    x = identity_block(x,64,128)\n",
    "    x = identity_block(x,64,128)\n",
    "    x = identity_block(x,64,128)\n",
    "    \n",
    "    x = convolutional_block(x,1,64,128)\n",
    "    x = identity_block(x,64,128)\n",
    "    x = identity_block(x,64,128)\n",
    "    \n",
    "    x = lay.SpatialPyramidPooling2D([32,16,1])(x)\n",
    "    x = layers.Flatten()(x)\n",
    "    x = layers.Dense(1)(x)\n",
    "    x = layers.Activation('sigmoid')(x)\n",
    "    \n",
    "    model = tf.keras.Model(inputs=input_layer,outputs=x)\n",
    "    model.compile(optimizer='adam',loss='binary_crossentropy',metrics=['accuracy'])\n",
    "    model.summary()\n",
    "    model.fit(X_train,y_train,epochs=10,batch_size=256,verbose=1)\n",
    "    loss,acc = model.evaluate(X_test,y_test)\n",
    "    print(\"Loss : \",loss,\" Accuracy : \",acc)"
   ]
  },
  {
   "cell_type": "markdown",
   "metadata": {
    "id": "mmYeQQWTiZwo"
   },
   "source": [
    "Batch Processing Models"
   ]
  },
  {
   "cell_type": "code",
   "execution_count": 18,
   "metadata": {
    "id": "xhfReVqWioCX"
   },
   "outputs": [],
   "source": [
    "m = len(data[0])"
   ]
  },
  {
   "cell_type": "code",
   "execution_count": null,
   "metadata": {
    "id": "DRpuG9MIipHJ"
   },
   "outputs": [],
   "source": []
  }
 ],
 "metadata": {
  "accelerator": "GPU",
  "colab": {
   "collapsed_sections": [],
   "machine_shape": "hm",
   "name": "DFDC2_AnirudhJoshi.ipynb",
   "provenance": []
  },
  "kernelspec": {
   "display_name": "Python 3 (ipykernel)",
   "language": "python",
   "name": "python3"
  },
  "language_info": {
   "codemirror_mode": {
    "name": "ipython",
    "version": 3
   },
   "file_extension": ".py",
   "mimetype": "text/x-python",
   "name": "python",
   "nbconvert_exporter": "python",
   "pygments_lexer": "ipython3",
   "version": "3.9.7"
  }
 },
 "nbformat": 4,
 "nbformat_minor": 4
}
