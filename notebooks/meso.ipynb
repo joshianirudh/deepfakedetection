{
 "cells": [
  {
   "cell_type": "code",
   "execution_count": 83,
   "id": "47ecc1a8-a2ca-48fa-9321-5b9991fa021f",
   "metadata": {},
   "outputs": [],
   "source": [
    "import torch\n",
    "import torch.nn as nn\n",
    "import torch.nn.functional as F\n",
    "import pandas as pd\n",
    "from tqdm import tqdm\n",
    "import cv2\n",
    "import os"
   ]
  },
  {
   "cell_type": "code",
   "execution_count": 7,
   "id": "1685aad5-32b8-4f8c-ba33-ac388888f181",
   "metadata": {},
   "outputs": [],
   "source": [
    "train_csv_path = \"../../dfdc_dataset/train.csv\"\n",
    "train_data_path = \"../../dfdc_dataset/archive/train/\"\n",
    "\n",
    "test_csv_path = \"../../dfdc_dataset/test.csv\"\n",
    "test_data_path = \"../../dfdc_dataset/archive/validation/\""
   ]
  },
  {
   "cell_type": "code",
   "execution_count": 45,
   "id": "233d7c54-64c5-4210-b61c-e5be8c043a5a",
   "metadata": {
    "jupyter": {
     "source_hidden": true
    },
    "tags": []
   },
   "outputs": [],
   "source": [
    "class DFDCDataset(torch.utils.data.Dataset):\n",
    "    \n",
    "    def __init__(self, data_csv, data_folder):\n",
    "        self.data = pd.read_csv(data_csv)\n",
    "        self.data_path = data_folder\n",
    "    \n",
    "    def __len__(self):\n",
    "        return len(self.data)\n",
    "    \n",
    "    def __getitem__(self, i):\n",
    "        img_path = self.data[\"path\"][i]\n",
    "        label = self.data[\"label\"][i]\n",
    "        label = 0 if label == \"real\" else 1 \n",
    "        \n",
    "        img_path = os.path.join(self.data_path, img_path)\n",
    "        img = cv2.imread(img_path) / 255.\n",
    "        \n",
    "        return img, label"
   ]
  },
  {
   "cell_type": "code",
   "execution_count": 46,
   "id": "9fe67f26-55ab-405b-a364-8a654d71b0dd",
   "metadata": {},
   "outputs": [],
   "source": [
    "train_dataset = DFDCDataset(train_csv_path, train_data_path)\n",
    "test_dataset = DFDCDataset(test_csv_path, test_data_path)\n",
    "\n",
    "train_dataloader = torch.utils.data.DataLoader(train_dataset, batch_size=32, shuffle=True)\n",
    "test_dataloader = torch.utils.data.DataLoader(test_dataset, batch_size=32, shuffle=False)"
   ]
  },
  {
   "cell_type": "markdown",
   "id": "7c73e7d4-14b7-4ef0-b659-95cba58d936f",
   "metadata": {},
   "source": [
    "MesoNet"
   ]
  },
  {
   "cell_type": "code",
   "execution_count": 95,
   "id": "af1472a4-19c8-4765-ac18-b287fc214699",
   "metadata": {
    "jp-MarkdownHeadingCollapsed": true,
    "tags": []
   },
   "outputs": [],
   "source": [
    "class Meso(torch.nn.Module):\n",
    "    def __init__(self):\n",
    "        super(Meso, self).__init__()\n",
    "        self.conv1 = nn.Conv2d(3,8,3,padding=1)\n",
    "        self.conv2 = nn.Conv2d(8,8,5,padding=2)\n",
    "        self.conv3 = nn.Conv2d(8,16,5,padding=2)\n",
    "        self.conv4 = nn.Conv2d(16,16,5,padding=2)\n",
    "        self.fc1 = nn.Linear(1600, 16)\n",
    "        self.fc2 = nn.Linear(16,2 )\n",
    "        \n",
    "    def forward(self, data):\n",
    "    \n",
    "        x = self.conv1(data)\n",
    "        x = F.batch_norm(F.relu(x),torch.zeros(8),torch.ones(8))\n",
    "        x = F.max_pool2d(x, kernel_size = 2)\n",
    "            \n",
    "        x = self.conv2(x)\n",
    "        x = F.batch_norm(F.relu(x),torch.zeros(8),torch.ones(8))\n",
    "        x = F.max_pool2d(x, kernel_size = 2)\n",
    "        \n",
    "        x = self.conv3(x)\n",
    "        x = F.batch_norm(F.relu(x),torch.zeros(16),torch.ones(16))\n",
    "        x = F.max_pool2d(x, kernel_size = 2)\n",
    "        \n",
    "        x = self.conv4(x)\n",
    "        x = F.batch_norm(F.relu(x),torch.zeros(16),torch.ones(16))\n",
    "        x = F.max_pool2d(x, kernel_size = 2)\n",
    "        \n",
    "        x = torch.flatten(x, 1)\n",
    "        \n",
    "        x = F.dropout2d(x, p=0.5)\n",
    "        x = F.relu(self.fc1(x))\n",
    "        \n",
    "        x = F.dropout2d(x, p=0.5)\n",
    "        x = self.fc2(x)\n",
    "        \n",
    "        return x "
   ]
  },
  {
   "cell_type": "code",
   "execution_count": 93,
   "id": "29e07b83-40e7-4c09-8313-62f440c6e748",
   "metadata": {},
   "outputs": [],
   "source": [
    "model = Meso()"
   ]
  },
  {
   "cell_type": "code",
   "execution_count": 94,
   "id": "aae96996-e5e6-456c-943f-d6249c12e0be",
   "metadata": {},
   "outputs": [
    {
     "data": {
      "text/plain": [
       "Meso(\n",
       "  (conv1): Conv2d(3, 8, kernel_size=(3, 3), stride=(1, 1), padding=(1, 1))\n",
       "  (conv2): Conv2d(8, 8, kernel_size=(5, 5), stride=(1, 1), padding=(2, 2))\n",
       "  (conv3): Conv2d(8, 16, kernel_size=(5, 5), stride=(1, 1), padding=(2, 2))\n",
       "  (conv4): Conv2d(16, 16, kernel_size=(5, 5), stride=(1, 1), padding=(2, 2))\n",
       "  (fc1): Linear(in_features=1600, out_features=16, bias=True)\n",
       "  (fc2): Linear(in_features=16, out_features=2, bias=True)\n",
       ")"
      ]
     },
     "execution_count": 97,
     "metadata": {},
     "output_type": "execute_result"
    }
   ],
   "source": [
    "model"
   ]
  },
  {
   "cell_type": "code",
   "execution_count": 99,
   "id": "817dfa9a-28b5-4005-a569-73aa16ce47bc",
   "metadata": {},
   "outputs": [],
   "source": [
    "optimizer = torch.optim.Adam(meso.parameters(), lr = 3e-4)\n",
    "loss_fn = nn.CrossEntropyLoss()"
   ]
  },
  {
   "cell_type": "code",
   "execution_count": 100,
   "id": "f958112c-a6b5-4362-8e5d-b8f8c2615f45",
   "metadata": {},
   "outputs": [
    {
     "name": "stderr",
     "output_type": "stream",
     "text": [
      "                                                                                                                       \r"
     ]
    },
    {
     "ename": "KeyboardInterrupt",
     "evalue": "",
     "output_type": "error",
     "traceback": [
      "\u001b[1;31m---------------------------------------------------------------------------\u001b[0m",
      "\u001b[1;31mKeyboardInterrupt\u001b[0m                         Traceback (most recent call last)",
      "\u001b[1;32m~\\AppData\\Local\\Temp/ipykernel_6280/3770224389.py\u001b[0m in \u001b[0;36m<module>\u001b[1;34m\u001b[0m\n\u001b[0;32m     18\u001b[0m         \u001b[0mloss\u001b[0m \u001b[1;33m=\u001b[0m \u001b[0mloss_fn\u001b[0m\u001b[1;33m(\u001b[0m\u001b[0mpreds\u001b[0m\u001b[1;33m,\u001b[0m \u001b[0mlabels\u001b[0m\u001b[1;33m)\u001b[0m\u001b[1;33m\u001b[0m\u001b[1;33m\u001b[0m\u001b[0m\n\u001b[0;32m     19\u001b[0m \u001b[1;33m\u001b[0m\u001b[0m\n\u001b[1;32m---> 20\u001b[1;33m         \u001b[0mloss\u001b[0m\u001b[1;33m.\u001b[0m\u001b[0mbackward\u001b[0m\u001b[1;33m(\u001b[0m\u001b[1;33m)\u001b[0m\u001b[1;33m\u001b[0m\u001b[1;33m\u001b[0m\u001b[0m\n\u001b[0m\u001b[0;32m     21\u001b[0m         \u001b[0moptimizer\u001b[0m\u001b[1;33m.\u001b[0m\u001b[0mstep\u001b[0m\u001b[1;33m(\u001b[0m\u001b[1;33m)\u001b[0m\u001b[1;33m\u001b[0m\u001b[1;33m\u001b[0m\u001b[0m\n\u001b[0;32m     22\u001b[0m \u001b[1;33m\u001b[0m\u001b[0m\n",
      "\u001b[1;32m~\\anaconda3\\envs\\dfdc\\lib\\site-packages\\torch\\_tensor.py\u001b[0m in \u001b[0;36mbackward\u001b[1;34m(self, gradient, retain_graph, create_graph, inputs)\u001b[0m\n\u001b[0;32m    305\u001b[0m                 \u001b[0mcreate_graph\u001b[0m\u001b[1;33m=\u001b[0m\u001b[0mcreate_graph\u001b[0m\u001b[1;33m,\u001b[0m\u001b[1;33m\u001b[0m\u001b[1;33m\u001b[0m\u001b[0m\n\u001b[0;32m    306\u001b[0m                 inputs=inputs)\n\u001b[1;32m--> 307\u001b[1;33m         \u001b[0mtorch\u001b[0m\u001b[1;33m.\u001b[0m\u001b[0mautograd\u001b[0m\u001b[1;33m.\u001b[0m\u001b[0mbackward\u001b[0m\u001b[1;33m(\u001b[0m\u001b[0mself\u001b[0m\u001b[1;33m,\u001b[0m \u001b[0mgradient\u001b[0m\u001b[1;33m,\u001b[0m \u001b[0mretain_graph\u001b[0m\u001b[1;33m,\u001b[0m \u001b[0mcreate_graph\u001b[0m\u001b[1;33m,\u001b[0m \u001b[0minputs\u001b[0m\u001b[1;33m=\u001b[0m\u001b[0minputs\u001b[0m\u001b[1;33m)\u001b[0m\u001b[1;33m\u001b[0m\u001b[1;33m\u001b[0m\u001b[0m\n\u001b[0m\u001b[0;32m    308\u001b[0m \u001b[1;33m\u001b[0m\u001b[0m\n\u001b[0;32m    309\u001b[0m     \u001b[1;32mdef\u001b[0m \u001b[0mregister_hook\u001b[0m\u001b[1;33m(\u001b[0m\u001b[0mself\u001b[0m\u001b[1;33m,\u001b[0m \u001b[0mhook\u001b[0m\u001b[1;33m)\u001b[0m\u001b[1;33m:\u001b[0m\u001b[1;33m\u001b[0m\u001b[1;33m\u001b[0m\u001b[0m\n",
      "\u001b[1;32m~\\anaconda3\\envs\\dfdc\\lib\\site-packages\\torch\\autograd\\__init__.py\u001b[0m in \u001b[0;36mbackward\u001b[1;34m(tensors, grad_tensors, retain_graph, create_graph, grad_variables, inputs)\u001b[0m\n\u001b[0;32m    152\u001b[0m         \u001b[0mretain_graph\u001b[0m \u001b[1;33m=\u001b[0m \u001b[0mcreate_graph\u001b[0m\u001b[1;33m\u001b[0m\u001b[1;33m\u001b[0m\u001b[0m\n\u001b[0;32m    153\u001b[0m \u001b[1;33m\u001b[0m\u001b[0m\n\u001b[1;32m--> 154\u001b[1;33m     Variable._execution_engine.run_backward(\n\u001b[0m\u001b[0;32m    155\u001b[0m         \u001b[0mtensors\u001b[0m\u001b[1;33m,\u001b[0m \u001b[0mgrad_tensors_\u001b[0m\u001b[1;33m,\u001b[0m \u001b[0mretain_graph\u001b[0m\u001b[1;33m,\u001b[0m \u001b[0mcreate_graph\u001b[0m\u001b[1;33m,\u001b[0m \u001b[0minputs\u001b[0m\u001b[1;33m,\u001b[0m\u001b[1;33m\u001b[0m\u001b[1;33m\u001b[0m\u001b[0m\n\u001b[0;32m    156\u001b[0m         allow_unreachable=True, accumulate_grad=True)  # allow_unreachable flag\n",
      "\u001b[1;31mKeyboardInterrupt\u001b[0m: "
     ]
    }
   ],
   "source": [
    "for e in range(10):\n",
    "    \n",
    "    train_loop = tqdm(train_dataloader, leave=False, position=0)\n",
    "    total_corr = 0\n",
    "    total = 0\n",
    "    total_loss = 0.\n",
    "    model.train()\n",
    "    \n",
    "    train_loop.set_description(f\"Epoch {e+1}\")\n",
    "    \n",
    "    for batch_num, (imgs, labels) in enumerate(train_loop):\n",
    "        optimizer.zero_grad()\n",
    "        \n",
    "        imgs = imgs.float().transpose(1, 3)\n",
    "        \n",
    "        preds = model(imgs)\n",
    "        \n",
    "        loss = loss_fn(preds, labels)\n",
    "        \n",
    "        loss.backward()\n",
    "        optimizer.step()\n",
    "        \n",
    "        total_loss += loss.item()\n",
    "        corr_preds = (torch.argmax(preds, dim=-1) == labels).sum().item()\n",
    "        \n",
    "        total += len(imgs)\n",
    "        total_corr += corr_preds\n",
    "        \n",
    "        train_loop.set_postfix(loss = loss.item(), acc = corr_preds / len(imgs) * 100)\n",
    "    \n",
    "    print(f\"TRAIN EPOCH {e + 1} LOSS = {total_loss / total} ACC = {total_corr / total * 100.}\")\n",
    "    \n",
    "    \n",
    "    test_loop = tqdm(test_dataloader, leave=False, position=0)\n",
    "    total_corr = 0\n",
    "    total = 0\n",
    "    total_loss = 0.\n",
    "    model.eval()\n",
    "    \n",
    "    test_loop.set_description(f\"Epoch {e+1}\")\n",
    "    \n",
    "    for batch_num, (imgs, labels) in enumerate(test_loop):\n",
    "        \n",
    "        imgs = imgs.float().transpose(1, 3)\n",
    "        \n",
    "        preds = model(imgs)\n",
    "        \n",
    "        loss = loss_fn(preds, labels)\n",
    "        \n",
    "        total_loss += loss.item()\n",
    "        corr_preds = (torch.argmax(preds, dim=-1) == labels).sum().item()\n",
    "        \n",
    "        total += len(imgs)\n",
    "        total_corr += corr_preds\n",
    "        \n",
    "        test_loop.set_postfix(loss = loss.item(), acc = corr_preds / len(imgs) * 100)\n",
    "    \n",
    "    print(f\"TEST EPOCH {e + 1} LOSS = {total_loss / total} ACC = {total_corr / total * 100.}\")\n",
    "          "
   ]
  },
  {
   "cell_type": "code",
   "execution_count": null,
   "id": "7d693f37-94c2-4c25-89d3-ec5e2a6c3c9d",
   "metadata": {},
   "outputs": [],
   "source": []
  },
  {
   "cell_type": "code",
   "execution_count": null,
   "id": "9256016f-c00d-4996-827f-9ef37bcbd3e1",
   "metadata": {},
   "outputs": [],
   "source": []
  }
 ],
 "metadata": {
  "kernelspec": {
   "display_name": "Python 3 (ipykernel)",
   "language": "python",
   "name": "python3"
  },
  "language_info": {
   "codemirror_mode": {
    "name": "ipython",
    "version": 3
   },
   "file_extension": ".py",
   "mimetype": "text/x-python",
   "name": "python",
   "nbconvert_exporter": "python",
   "pygments_lexer": "ipython3",
   "version": "3.9.7"
  }
 },
 "nbformat": 4,
 "nbformat_minor": 5
}
